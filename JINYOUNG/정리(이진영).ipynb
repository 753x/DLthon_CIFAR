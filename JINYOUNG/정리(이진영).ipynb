{
 "cells": [
  {
   "cell_type": "markdown",
   "id": "607bb4e1",
   "metadata": {},
   "source": [
    "# 초기모델"
   ]
  },
  {
   "cell_type": "code",
   "execution_count": null,
   "id": "b18e7e7c",
   "metadata": {},
   "outputs": [],
   "source": [
    "# BasicBlock 정의\n",
    "def BasicBlock(inputs, filters, stride=1):\n",
    "    shortcut = inputs\n",
    "\n",
    "    x = Conv2D(filters, (3, 3), strides=stride, padding='same')(inputs)\n",
    "    x = BatchNormalization()(x)\n",
    "    x = Activation('relu')(x)\n",
    "\n",
    "    x = Conv2D(filters, (3, 3), strides=1, padding='same')(x)\n",
    "    x = BatchNormalization()(x)\n",
    "\n",
    "    if stride != 1:\n",
    "        shortcut = Conv2D(filters, (1, 1), strides=stride, padding='same')(inputs)\n",
    "        shortcut = BatchNormalization()(shortcut)\n",
    "\n",
    "    x = Add()([x, shortcut])\n",
    "    x = Activation('relu')(x)\n",
    "    return x\n",
    "\n",
    "# ResNet 정의\n",
    "def ResNet18():\n",
    "    inputs = Input(shape=(32, 32, 3))\n",
    "\n",
    "    x = Conv2D(64, (3, 3), strides=1, padding='same')(inputs)\n",
    "    x = BatchNormalization()(x)\n",
    "    x = Activation('relu')(x)\n",
    "\n",
    "    x = BasicBlock(x, 64)\n",
    "    x = BasicBlock(x, 64)\n",
    "    x = BasicBlock(x, 128, stride=2)\n",
    "    x = BasicBlock(x, 128)\n",
    "    x = BasicBlock(x, 256, stride=2)\n",
    "    x = BasicBlock(x, 256)\n",
    "    x = BasicBlock(x, 512, stride=2)\n",
    "    x = BasicBlock(x, 512)\n",
    "\n",
    "    x = GlobalAveragePooling2D()(x)\n",
    "    outputs = Dense(10, activation='softmax')(x)\n",
    "\n",
    "    model = Model(inputs, outputs)\n",
    "    return model"
   ]
  },
  {
   "cell_type": "markdown",
   "id": "53cb86a8",
   "metadata": {},
   "source": [
    "### 초기에는 데이터증강을 시도하지 않았다."
   ]
  },
  {
   "cell_type": "markdown",
   "id": "caf4914c",
   "metadata": {},
   "source": [
    "313/313 [==============================] - 4s 12ms/step - loss: 0.8859 - accuracy: 0.8177\n",
    "Test loss: 0.8858659863471985\n",
    "Test accuracy: 0.8177000284194946"
   ]
  },
  {
   "cell_type": "markdown",
   "id": "6b4322e5",
   "metadata": {},
   "source": [
    "### test 데이터의 정확도가 81%정도가 나왔다. 더 좋은 모델을 만들기 위해 데이터 증강을 시도해보았다."
   ]
  },
  {
   "cell_type": "markdown",
   "id": "16750792",
   "metadata": {},
   "source": [
    "# 1번째 데이터 증강"
   ]
  },
  {
   "cell_type": "code",
   "execution_count": null,
   "id": "4cb00236",
   "metadata": {},
   "outputs": [],
   "source": [
    "def augment(image, label):\n",
    "    image = tf.image.random_flip_left_right(image) #이미지를 랜덤하게 좌우로 반전\n",
    "    angle = tf.random.uniform([], -0.2, 0.2)  # 랜덤 각도 생성\n",
    "    image = tfa.image.rotate(image, angle) # 이미지를 생성한 랜덤한 각도로 회전\n",
    "    image = tf.image.random_brightness(image, max_delta=0.2)  # 랜덤 밝기 조절\n",
    "    image = tf.image.random_contrast(image, lower=0.5, upper=1.5)  # 랜덤 대비 조절\n",
    "    return image, label\n",
    "\n",
    "def prepare_for_training(ds, shuffle_buffer_size=1000, BATCH_SIZE=32, AUTOTUNE=tf.data.AUTOTUNE):\n",
    "    ds = ds.map(augment, num_parallel_calls=2)\n",
    "    ds = ds.shuffle(buffer_size=shuffle_buffer_size)\n",
    "    ds = ds.repeat()\n",
    "    ds = ds.batch(32)\n",
    "    ds = ds.prefetch(buffer_size=AUTOTUNE)\n",
    "    return ds\n",
    "\n",
    "\n",
    "(x_train, y_train), (x_test, y_test) = tf.keras.datasets.cifar10.load_data()\n",
    "train_ds = tf.data.Dataset.from_tensor_slices((x_train, y_train))\n",
    "test_ds = tf.data.Dataset.from_tensor_slices((x_test, y_test))\n",
    "\n",
    "# 데이터 파이프라인 준비\n",
    "train_ds = prepare_for_training(train_ds)"
   ]
  },
  {
   "cell_type": "markdown",
   "id": "4878a76d",
   "metadata": {},
   "source": [
    "데이터 양이 부족하여 정확도가 오르지 않는다고 생각하여 데이터 증강을 진행했다.\n",
    "첫 증강데이터는 기본적인 증강기법만 사용했다.\n",
    "초기 모델보다는 정확도가 오를 것이라고 생각했다."
   ]
  },
  {
   "attachments": {
    "image.png": {
     "image/png": "[encoded data removed]"
    }
   },
   "cell_type": "markdown",
   "id": "a0f5577b",
   "metadata": {},
   "source": [
    "![image.png](attachment:image.png)"
   ]
  },
  {
   "cell_type": "markdown",
   "id": "66828d79",
   "metadata": {},
   "source": [
    "### 초기 모델보다 정확도가 10% 높아졌다. 정확도를 더 높이기 위해 다른 증강기법을 추가해보자"
   ]
  },
  {
   "cell_type": "markdown",
   "id": "67d8d482",
   "metadata": {},
   "source": [
    "# 2번째 데이터 증강"
   ]
  },
  {
   "cell_type": "code",
   "execution_count": null,
   "id": "6eccfe09",
   "metadata": {},
   "outputs": [],
   "source": [
    "def augment(image, label):\n",
    "    image = tf.image.random_flip_left_right(image)# 무작위 좌우 뒤집기\n",
    "    image = tf.image.random_flip_up_down(image) #무작위 상하 뒤집기\n",
    "    angle = tf.random.uniform([], -0.2, 0.2)  # 랜덤 각도 생성\n",
    "    image = tfa.image.rotate(image, angle) #위에 설정된 랜덤각도로 회전\n",
    "    image = tf.image.random_contrast(image, lower=0.5, upper=1.5)  # 랜덤 대비 조절\n",
    "    return image, label\n",
    "\n",
    "def prepare_for_training(ds, shuffle_buffer_size=1000, BATCH_SIZE=32, AUTOTUNE=tf.data.AUTOTUNE):\n",
    "    ds = ds.map(augment, num_parallel_calls=2) \n",
    "    ds = ds.shuffle(buffer_size=shuffle_buffer_size) \n",
    "    ds = ds.repeat() \n",
    "    ds = ds.batch(32) \n",
    "    ds = ds.prefetch(buffer_size=AUTOTUNE) \n",
    "    return ds\n",
    "\n",
    "\n",
    "(x_train, y_train), (x_test, y_test) = tf.keras.datasets.cifar10.load_data()\n",
    "train_ds = tf.data.Dataset.from_tensor_slices((x_train, y_train))\n",
    "test_ds = tf.data.Dataset.from_tensor_slices((x_test, y_test))\n",
    "\n",
    "# 데이터 파이프라인 준비\n",
    "train_ds = prepare_for_training(train_ds)"
   ]
  },
  {
   "cell_type": "markdown",
   "id": "80af17a5",
   "metadata": {},
   "source": [
    "### 밝기조절을 빼고 상하 반전을 추가해보았다."
   ]
  },
  {
   "attachments": {
    "image.png": {
     "image/png": "[encoded data removed]"
    }
   },
   "cell_type": "markdown",
   "id": "eae86e2f",
   "metadata": {},
   "source": [
    "![image.png](attachment:image.png)"
   ]
  },
  {
   "cell_type": "markdown",
   "id": "260a49dc",
   "metadata": {},
   "source": [
    "### 1번째 증강 데이터 보다 2% 정도 떨어진 걸 확인할 수 있다. 유의미한 결과를 만들지 않았기 때문에 더 많은 기법을 추가해보려 한다.\n"
   ]
  },
  {
   "cell_type": "markdown",
   "id": "76aa3223",
   "metadata": {},
   "source": [
    "# 3번째 데이터 증강"
   ]
  },
  {
   "cell_type": "code",
   "execution_count": null,
   "id": "d79bd2dd",
   "metadata": {},
   "outputs": [],
   "source": [
    "def augment(image, label):\n",
    "    image = tf.image.random_flip_left_right(image) #이미지를 랜덤하게 좌우로 반전\n",
    "    \n",
    "    image = tf.image.random_flip_up_down(image) #이미지를 랜덤하게 상하로 반전\n",
    "    \n",
    "    angle = tf.random.uniform([], -0.2, 0.2) #랜덤한 각도를 생성\n",
    "    image = tfa.image.rotate(image, angle) #이미지를 생성한 랜덤한 각도로 회전\n",
    "    \n",
    "    image = tf.image.random_contrast(image, lower=0.5, upper=1.5) #이미지의 대비를 랜덤하게 조절\n",
    "    \n",
    "    image = tf.image.random_brightness(image, max_delta=0.1) #이미지의 밝기를 랜덤하게 조절\n",
    "    \n",
    "    image = tf.image.random_hue(image, max_delta=0.05) #이미지의 색조를 랜덤하게 조절\n",
    "\n",
    "    image = tf.image.random_saturation(image, lower=0.5, upper=1.5) #)이미지의 채도를 랜덤하게 조절\n",
    "    \n",
    "    return image, label\n",
    "\n",
    "def prepare_for_training(ds, shuffle_buffer_size=1000, BATCH_SIZE=32, AUTOTUNE=tf.data.AUTOTUNE):\n",
    "    ds = ds.map(augment, num_parallel_calls=2) \n",
    "    ds = ds.shuffle(buffer_size=shuffle_buffer_size) \n",
    "    ds = ds.repeat() \n",
    "    ds = ds.batch(32) \n",
    "    ds = ds.prefetch(buffer_size=AUTOTUNE) \n",
    "    return ds\n",
    "\n",
    "\n",
    "(x_train, y_train), (x_test, y_test) = tf.keras.datasets.cifar10.load_data()\n",
    "train_ds = tf.data.Dataset.from_tensor_slices((x_train, y_train))\n",
    "test_ds = tf.data.Dataset.from_tensor_slices((x_test, y_test))\n",
    "\n",
    "# 데이터 파이프라인 준비\n",
    "train_ds = prepare_for_training(train_ds)"
   ]
  },
  {
   "cell_type": "markdown",
   "id": "89e4475e",
   "metadata": {},
   "source": [
    "### 2번째 증강 데이터에 밝기와 색조 채도를 랜덤으로 조절하게 해보았다. 다양한 데이터가 생기기 때문에 정확도가 오를 것으로 생각했다."
   ]
  },
  {
   "attachments": {
    "image.png": {
     "image/png": "[encoded data removed]"
    }
   },
   "cell_type": "markdown",
   "id": "7881f03b",
   "metadata": {},
   "source": [
    "![image.png](attachment:image.png)"
   ]
  },
  {
   "cell_type": "markdown",
   "id": "bb8e6601",
   "metadata": {},
   "source": [
    "### 1번째 증강 데이터와 비슷하지만 조금 떨어지는 것을 확인할 수 있다. 증강기법이 많아진다고 해서 정확도가 무조건 적으로 오르지는 않았다."
   ]
  },
  {
   "cell_type": "markdown",
   "id": "377586b7",
   "metadata": {},
   "source": [
    "# 4번째 데이터 증강"
   ]
  },
  {
   "cell_type": "code",
   "execution_count": null,
   "id": "fbfb7e63",
   "metadata": {},
   "outputs": [],
   "source": [
    "def augment(image, label):\n",
    "    image = tf.image.random_flip_left_right(image) #이미지를 랜덤하게 좌우로 반전\n",
    "    \n",
    "    image = tf.image.random_flip_up_down(image) #이미지를 랜덤하게 상하로 반전\n",
    "\n",
    "    angle = tf.random.uniform([], -0.2, 0.2) #랜덤한 각도를 생성\n",
    "    image = tfa.image.rotate(image, angle)# 이미지를 생성한 랜덤한 각도로 회전\n",
    "\n",
    "    image = tf.image.random_contrast(image, lower=0.5, upper=1.5)#이미지의 대비를 랜덤하게 조절\n",
    "\n",
    "    image = tf.image.random_brightness(image, max_delta=0.1) #이미지의 밝기를 랜덤하게 조절\n",
    "\n",
    "    image = tf.image.random_hue(image, max_delta=0.05) #이미지의 색조를 랜덤하게 조절\n",
    " \n",
    "    image = tf.image.random_saturation(image, lower=0.5, upper=1.5) #이미지의 채도를 랜덤하게 조절\n",
    "\n",
    "    image = tf.image.random_jpeg_quality(image, min_jpeg_quality=80, max_jpeg_quality=100) #이미지의 JPEG 압축 품질을 랜덤하게 조절\n",
    "    \n",
    "    return image, label\n",
    "\n",
    "\n",
    "def prepare_for_training(ds, shuffle_buffer_size=1000, BATCH_SIZE=32, AUTOTUNE=tf.data.AUTOTUNE):\n",
    "    ds = ds.map(augment, num_parallel_calls=2) \n",
    "    ds = ds.shuffle(buffer_size=shuffle_buffer_size) \n",
    "    ds = ds.repeat() \n",
    "    ds = ds.batch(32) \n",
    "    ds = ds.prefetch(buffer_size=AUTOTUNE) \n",
    "    return ds\n",
    "\n",
    "\n",
    "(x_train, y_train), (x_test, y_test) = tf.keras.datasets.cifar10.load_data()\n",
    "train_ds = tf.data.Dataset.from_tensor_slices((x_train, y_train))\n",
    "test_ds = tf.data.Dataset.from_tensor_slices((x_test, y_test))\n",
    "\n",
    "# 데이터 파이프라인 준비\n",
    "train_ds = prepare_for_training(train_ds)"
   ]
  },
  {
   "cell_type": "markdown",
   "id": "18a5017d",
   "metadata": {},
   "source": [
    "### 3번째 증강 데이터에 이미지의 압축품질을 랜덤하게 조절하는 증강기법을 사용해 봤다. 품질을 조절하는 거라 train 정확도는 떨어지지만 일반화가 잘 되어 평가 정확도가 오를 것이란 발칙한 상상을 해보았다. "
   ]
  },
  {
   "attachments": {
    "image.png": {
     "image/png": "[encoded data removed]"
    }
   },
   "cell_type": "markdown",
   "id": "b881be6f",
   "metadata": {},
   "source": [
    "![image.png](attachment:image.png)"
   ]
  },
  {
   "cell_type": "markdown",
   "id": "5c165b65",
   "metadata": {},
   "source": [
    "### 하지만 1,2,3번쨰 증강 데이터 보다 결과가 나아지지 않고 오히려 떨어지게 되었다."
   ]
  },
  {
   "cell_type": "markdown",
   "id": "7a6674f0",
   "metadata": {},
   "source": [
    "# 느낀점"
   ]
  },
  {
   "cell_type": "markdown",
   "id": "6c62e8a9",
   "metadata": {},
   "source": [
    "매개 변수 선택 어려움이 너무 어려웠다. 그리고 증강기법의 개수 보다는 적당하게 버무리는 것이 좋다는 걸 깨달았다."
   ]
  }
 ],
 "metadata": {
  "kernelspec": {
   "display_name": "Python 3 (ipykernel)",
   "language": "python",
   "name": "python3"
  },
  "language_info": {
   "codemirror_mode": {
    "name": "ipython",
    "version": 3
   },
   "file_extension": ".py",
   "mimetype": "text/x-python",
   "name": "python",
   "nbconvert_exporter": "python",
   "pygments_lexer": "ipython3",
   "version": "3.9.7"
  }
 },
 "nbformat": 4,
 "nbformat_minor": 5
}
